{
 "cells": [
  {
   "cell_type": "code",
   "execution_count": 4,
   "metadata": {},
   "outputs": [
    {
     "name": "stdout",
     "output_type": "stream",
     "text": [
      "Requirement already satisfied: mltk in c:\\users\\smart\\anaconda3\\lib\\site-packages (0.0.5)\n",
      "Requirement already satisfied: pandas in c:\\users\\smart\\anaconda3\\lib\\site-packages (from mltk) (1.0.1)\n",
      "Requirement already satisfied: numpy in c:\\users\\smart\\anaconda3\\lib\\site-packages (from mltk) (1.18.1)\n",
      "Requirement already satisfied: python-dateutil>=2.6.1 in c:\\users\\smart\\anaconda3\\lib\\site-packages (from pandas->mltk) (2.8.1)\n",
      "Requirement already satisfied: pytz>=2017.2 in c:\\users\\smart\\anaconda3\\lib\\site-packages (from pandas->mltk) (2019.3)\n",
      "Requirement already satisfied: six>=1.5 in c:\\users\\smart\\anaconda3\\lib\\site-packages (from python-dateutil>=2.6.1->pandas->mltk) (1.14.0)\n",
      "Note: you may need to restart the kernel to use updated packages.\n"
     ]
    }
   ],
   "source": [
    "pip install mltk"
   ]
  },
  {
   "cell_type": "code",
   "execution_count": 5,
   "metadata": {},
   "outputs": [
    {
     "name": "stdout",
     "output_type": "stream",
     "text": [
      "Requirement already satisfied: wordcloud in c:\\users\\smart\\anaconda3\\lib\\site-packages (1.8.1)\n",
      "Requirement already satisfied: matplotlib in c:\\users\\smart\\anaconda3\\lib\\site-packages (from wordcloud) (3.1.3)\n",
      "Requirement already satisfied: numpy>=1.6.1 in c:\\users\\smart\\anaconda3\\lib\\site-packages (from wordcloud) (1.18.1)\n",
      "Requirement already satisfied: pillow in c:\\users\\smart\\anaconda3\\lib\\site-packages (from wordcloud) (7.0.0)\n",
      "Requirement already satisfied: pyparsing!=2.0.4,!=2.1.2,!=2.1.6,>=2.0.1 in c:\\users\\smart\\anaconda3\\lib\\site-packages (from matplotlib->wordcloud) (2.4.6)\n",
      "Requirement already satisfied: cycler>=0.10 in c:\\users\\smart\\anaconda3\\lib\\site-packages (from matplotlib->wordcloud) (0.10.0)\n",
      "Requirement already satisfied: python-dateutil>=2.1 in c:\\users\\smart\\anaconda3\\lib\\site-packages (from matplotlib->wordcloud) (2.8.1)\n",
      "Requirement already satisfied: kiwisolver>=1.0.1 in c:\\users\\smart\\anaconda3\\lib\\site-packages (from matplotlib->wordcloud) (1.1.0)\n",
      "Requirement already satisfied: six in c:\\users\\smart\\anaconda3\\lib\\site-packages (from cycler>=0.10->matplotlib->wordcloud) (1.14.0)\n",
      "Requirement already satisfied: setuptools in c:\\users\\smart\\anaconda3\\lib\\site-packages (from kiwisolver>=1.0.1->matplotlib->wordcloud) (45.2.0.post20200210)\n",
      "Note: you may need to restart the kernel to use updated packages.\n"
     ]
    }
   ],
   "source": [
    "pip install wordcloud"
   ]
  },
  {
   "cell_type": "code",
   "execution_count": 39,
   "metadata": {},
   "outputs": [],
   "source": [
    "import numpy as np\n",
    "import pandas as pd\n",
    "import seaborn as sns                      # Genral Packages\n",
    "import matplotlib.pyplot as plt \n",
    "import os"
   ]
  },
  {
   "cell_type": "code",
   "execution_count": 40,
   "metadata": {},
   "outputs": [],
   "source": [
    "#NLP Packaages\n",
    "import nltk           #Natural Language Processing Toolkit\n",
    "from nltk import word_tokenize\n",
    "from sklearn.feature_extraction.text import CountVectorizer   #counting each of the word in entire reviews\n",
    "from sklearn.feature_extraction.text import TfidfVectorizer   #To change the word dimensions\n",
    "from collections import Counter\n",
    "from wordcloud import WordCloud      #Expressing the words in a word cloud"
   ]
  },
  {
   "cell_type": "code",
   "execution_count": 41,
   "metadata": {},
   "outputs": [],
   "source": [
    "from sklearn.model_selection import train_test_split\n",
    "from sklearn.linear_model import LogisticRegression\n",
    "from sklearn.ensemble import RandomForestClassifier                     #Model Packages\n",
    "from sklearn.metrics import accuracy_score\n",
    "from sklearn.metrics import f1_score"
   ]
  },
  {
   "cell_type": "code",
   "execution_count": 42,
   "metadata": {},
   "outputs": [],
   "source": [
    "from pylab import rcParams\n",
    "import warnings\n",
    "warnings.filterwarnings(\"ignore\")\n",
    "rcParams['figure.figsize'] =14, 6\n",
    "plt.style.use('ggplot')"
   ]
  },
  {
   "cell_type": "markdown",
   "metadata": {},
   "source": [
    "#Importing DataSet"
   ]
  },
  {
   "cell_type": "code",
   "execution_count": 43,
   "metadata": {},
   "outputs": [
    {
     "data": {
      "text/html": [
       "<div>\n",
       "<style scoped>\n",
       "    .dataframe tbody tr th:only-of-type {\n",
       "        vertical-align: middle;\n",
       "    }\n",
       "\n",
       "    .dataframe tbody tr th {\n",
       "        vertical-align: top;\n",
       "    }\n",
       "\n",
       "    .dataframe thead th {\n",
       "        text-align: right;\n",
       "    }\n",
       "</style>\n",
       "<table border=\"1\" class=\"dataframe\">\n",
       "  <thead>\n",
       "    <tr style=\"text-align: right;\">\n",
       "      <th></th>\n",
       "      <th>ProductId</th>\n",
       "      <th>UserId</th>\n",
       "      <th>ProfileName</th>\n",
       "      <th>HelpfulnessNumerator</th>\n",
       "      <th>HelpfulnessDenominator</th>\n",
       "      <th>Score</th>\n",
       "      <th>Time</th>\n",
       "      <th>Summary</th>\n",
       "      <th>Text</th>\n",
       "    </tr>\n",
       "  </thead>\n",
       "  <tbody>\n",
       "    <tr>\n",
       "      <th>0</th>\n",
       "      <td>B001E4KFG0</td>\n",
       "      <td>A3SGXH7AUHU8GW</td>\n",
       "      <td>delmartian</td>\n",
       "      <td>1</td>\n",
       "      <td>1</td>\n",
       "      <td>5</td>\n",
       "      <td>1303862400</td>\n",
       "      <td>Good Quality Dog Food</td>\n",
       "      <td>I have bought several of the Vitality canned d...</td>\n",
       "    </tr>\n",
       "    <tr>\n",
       "      <th>1</th>\n",
       "      <td>B00813GRG4</td>\n",
       "      <td>A1D87F6ZCVE5NK</td>\n",
       "      <td>dll pa</td>\n",
       "      <td>0</td>\n",
       "      <td>0</td>\n",
       "      <td>1</td>\n",
       "      <td>1346976000</td>\n",
       "      <td>Not as Advertised</td>\n",
       "      <td>Product arrived labeled as Jumbo Salted Peanut...</td>\n",
       "    </tr>\n",
       "    <tr>\n",
       "      <th>2</th>\n",
       "      <td>B000LQOCH0</td>\n",
       "      <td>ABXLMWJIXXAIN</td>\n",
       "      <td>Natalia Corres \"Natalia Corres\"</td>\n",
       "      <td>1</td>\n",
       "      <td>1</td>\n",
       "      <td>4</td>\n",
       "      <td>1219017600</td>\n",
       "      <td>\"Delight\" says it all</td>\n",
       "      <td>This is a confection that has been around a fe...</td>\n",
       "    </tr>\n",
       "  </tbody>\n",
       "</table>\n",
       "</div>"
      ],
      "text/plain": [
       "    ProductId          UserId                      ProfileName  \\\n",
       "0  B001E4KFG0  A3SGXH7AUHU8GW                       delmartian   \n",
       "1  B00813GRG4  A1D87F6ZCVE5NK                           dll pa   \n",
       "2  B000LQOCH0   ABXLMWJIXXAIN  Natalia Corres \"Natalia Corres\"   \n",
       "\n",
       "   HelpfulnessNumerator  HelpfulnessDenominator  Score        Time  \\\n",
       "0                     1                       1      5  1303862400   \n",
       "1                     0                       0      1  1346976000   \n",
       "2                     1                       1      4  1219017600   \n",
       "\n",
       "                 Summary                                               Text  \n",
       "0  Good Quality Dog Food  I have bought several of the Vitality canned d...  \n",
       "1      Not as Advertised  Product arrived labeled as Jumbo Salted Peanut...  \n",
       "2  \"Delight\" says it all  This is a confection that has been around a fe...  "
      ]
     },
     "execution_count": 43,
     "metadata": {},
     "output_type": "execute_result"
    }
   ],
   "source": [
    "amazon_reviews = pd.read_csv('Amazon_Review.csv')   #DataSet from Kaggle\n",
    "amazon_reviews.head(3)"
   ]
  },
  {
   "cell_type": "code",
   "execution_count": 44,
   "metadata": {},
   "outputs": [
    {
     "name": "stdout",
     "output_type": "stream",
     "text": [
      "Average Words: 77.9028\n",
      "Skewness: 4.612459483340116\n"
     ]
    }
   ],
   "source": [
    "#Getting no. of words by spliting them by a space\n",
    "words_per_review = amazon_reviews.Text.apply(lambda x: len(x.split(\" \")))\n",
    "print('Average Words:', words_per_review.mean())\n",
    "print('Skewness:', words_per_review.skew()) #how symmetric is our distribution\n"
   ]
  },
  {
   "cell_type": "code",
   "execution_count": 45,
   "metadata": {},
   "outputs": [
    {
     "data": {
      "text/plain": [
       "<matplotlib.axes._subplots.AxesSubplot at 0x21358da0e48>"
      ]
     },
     "execution_count": 45,
     "metadata": {},
     "output_type": "execute_result"
    },
    {
     "data": {
      "image/png": "[encoded data removed]",
      "text/plain": [
       "<Figure size 1008x432 with 1 Axes>"
      ]
     },
     "metadata": {},
     "output_type": "display_data"
    }
   ],
   "source": [
    "words_per_review.hist(bins = 200)\n"
   ]
  },
  {
   "cell_type": "code",
   "execution_count": 46,
   "metadata": {},
   "outputs": [
    {
     "data": {
      "text/plain": [
       "5    618.3\n",
       "4    143.3\n",
       "1     93.2\n",
       "3     86.2\n",
       "2     59.0\n",
       "Name: Score, dtype: float64"
      ]
     },
     "execution_count": 46,
     "metadata": {},
     "output_type": "execute_result"
    }
   ],
   "source": [
    "percent_val = 1000 * amazon_reviews['Score'].value_counts()/len(amazon_reviews)\n",
    "percent_val"
   ]
  },
  {
   "cell_type": "code",
   "execution_count": 47,
   "metadata": {},
   "outputs": [
    {
     "data": {
      "image/png": "[encoded data removed]",
      "text/plain": [
       "<Figure size 1008x432 with 1 Axes>"
      ]
     },
     "metadata": {},
     "output_type": "display_data"
    }
   ],
   "source": [
    "percent_val.plot.bar()\n",
    "plt.show()"
   ]
  },
  {
   "cell_type": "raw",
   "metadata": {},
   "source": [
    "Text Visualization using work clouds\n",
    "we would use this to delete those words that are not telling anything about reviews "
   ]
  },
  {
   "cell_type": "code",
   "execution_count": 48,
   "metadata": {},
   "outputs": [],
   "source": [
    "word_cloud_text = ''.join(amazon_reviews['Text'])\n",
    "\n",
    "wordcloud = WordCloud(max_font_size =100,  #max. fomt size\n",
    "                      max_words=100, #Maximum Number of words\n",
    "                      background_color = \"white\",\n",
    "                      scale = 10,\n",
    "                      width = 800,\n",
    "                      height = 400\n",
    "                      ).generate(word_cloud_text)\n"
   ]
  },
  {
   "cell_type": "code",
   "execution_count": 49,
   "metadata": {},
   "outputs": [
    {
     "data": {
      "image/png": "[encoded data removed]",
      "text/plain": [
       "<Figure size 1008x432 with 1 Axes>"
      ]
     },
     "metadata": {},
     "output_type": "display_data"
    }
   ],
   "source": [
    "plt.figure()\n",
    "plt.imshow(wordcloud,\n",
    "          interpolation = 'bilinear') #to make the image smoothly\n",
    "plt.axis(\"off\")\n",
    "plt.show()\n",
    "#Larger word have high frequency and smaller word have low frequency"
   ]
  },
  {
   "cell_type": "markdown",
   "metadata": {},
   "source": [
    "Standerizing the rating for sentiment\n",
    "Raing of 4 to 5 we marked as positive reviews\n",
    "Rating of 1 to 2 we marked as negative reviews\n",
    "Rating of 3 we marked as Neutral and they will removed because they are neutral"
   ]
  },
  {
   "cell_type": "code",
   "execution_count": 50,
   "metadata": {},
   "outputs": [
    {
     "data": {
      "text/plain": [
       "1    7616\n",
       "0    1522\n",
       "Name: Sentiment_rating, dtype: int64"
      ]
     },
     "execution_count": 50,
     "metadata": {},
     "output_type": "execute_result"
    }
   ],
   "source": [
    "# Mapping the ratings\n",
    "amazon_reviews['Sentiment_rating'] = np.where(amazon_reviews.Score> 3,1,0) #Greater than 3 marked as 1 less than 3 marked as 0\n",
    "\n",
    "#removing neutralReviews\n",
    "amazon_reviews = amazon_reviews[amazon_reviews.Score!= 3]\n",
    "\n",
    "#orinting the count of each class\n",
    "amazon_reviews['Sentiment_rating'].value_counts()"
   ]
  },
  {
   "cell_type": "code",
   "execution_count": 51,
   "metadata": {},
   "outputs": [
    {
     "data": {
      "text/plain": [
       "<matplotlib.axes._subplots.AxesSubplot at 0x21359114088>"
      ]
     },
     "execution_count": 51,
     "metadata": {},
     "output_type": "execute_result"
    },
    {
     "data": {
      "image/png": "[encoded data removed]",
      "text/plain": [
       "<Figure size 1008x432 with 1 Axes>"
      ]
     },
     "metadata": {},
     "output_type": "display_data"
    }
   ],
   "source": [
    "amazon_reviews.Sentiment_rating.value_counts().plot.bar()\n"
   ]
  },
  {
   "cell_type": "markdown",
   "metadata": {},
   "source": [
    "PRE-PROCESSING OF DATA\n",
    "STEPS:\n",
    "convert the words to lower/upper case, \n",
    " removing special character, \n",
    " removing stopwords and/highlow frequency words, \n",
    " stteming/lemmatization (those words that mean same but look diffrent like run and running)"
   ]
  },
  {
   "cell_type": "markdown",
   "metadata": {},
   "source": [
    "convert the words to lower/upper case"
   ]
  },
  {
   "cell_type": "code",
   "execution_count": 75,
   "metadata": {},
   "outputs": [],
   "source": [
    "amazon_reviews['reviews_text_new'] = amazon_reviews['Text'].str.lower()"
   ]
  },
  {
   "cell_type": "code",
   "execution_count": 76,
   "metadata": {},
   "outputs": [
    {
     "name": "stdout",
     "output_type": "stream",
     "text": [
      "0       i have bought several of the vitality canned d...\n",
      "1       product arrived labeled as jumbo salted peanut...\n",
      "2       this is a confection that has been around a fe...\n",
      "3       if you are looking for the secret ingredient i...\n",
      "4       great taffy at a great price.  there was a wid...\n",
      "                              ...                        \n",
      "9995    we switched from the advance similac to the or...\n",
      "9996    like the bad reviews say, the organic formula ...\n",
      "9997    i wanted to solely breastfeed but was unable t...\n",
      "9998    i love the fact that i can get this delieved t...\n",
      "9999    we have a 7 week old... he had gas and constip...\n",
      "Name: reviews_text_new, Length: 9138, dtype: object\n"
     ]
    }
   ],
   "source": [
    "print(amazon_reviews['reviews_text_new'])"
   ]
  },
  {
   "cell_type": "markdown",
   "metadata": {},
   "source": [
    "for unique words we use tokenization"
   ]
  },
  {
   "cell_type": "code",
   "execution_count": 1,
   "metadata": {},
   "outputs": [
    {
     "name": "stderr",
     "output_type": "stream",
     "text": [
      "[nltk_data] Downloading package punkt to\n",
      "[nltk_data]     C:\\Users\\smart\\AppData\\Roaming\\nltk_data...\n",
      "[nltk_data]   Unzipping tokenizers\\punkt.zip.\n"
     ]
    },
    {
     "data": {
      "text/plain": [
       "True"
      ]
     },
     "execution_count": 1,
     "metadata": {},
     "output_type": "execute_result"
    }
   ],
   "source": [
    "import nltk\n",
    "nltk.download('punkt')"
   ]
  },
  {
   "cell_type": "code",
   "execution_count": 77,
   "metadata": {},
   "outputs": [
    {
     "data": {
      "text/plain": [
       "['It', 'is', 'awsome', ':', 'D']"
      ]
     },
     "execution_count": 77,
     "metadata": {},
     "output_type": "execute_result"
    }
   ],
   "source": [
    "from nltk import word_tokenize\n",
    "\n",
    "word_tokenize(\"It is awsome :D\")"
   ]
  },
  {
   "cell_type": "code",
   "execution_count": 78,
   "metadata": {},
   "outputs": [
    {
     "name": "stdout",
     "output_type": "stream",
     "text": [
      "No. of unique tokens then : 27884\n"
     ]
    }
   ],
   "source": [
    "#For reviews converted to lowercase\n",
    "token_lists =[word_tokenize(each) for each in amazon_reviews['Text']]\n",
    "tokens = [item for sublist in token_lists for item in sublist]\n",
    "print(\"No. of unique tokens then :\", len(set(tokens)))"
   ]
  },
  {
   "cell_type": "code",
   "execution_count": 79,
   "metadata": {},
   "outputs": [
    {
     "name": "stdout",
     "output_type": "stream",
     "text": [
      "No. of unique tokens now : 22852\n"
     ]
    }
   ],
   "source": [
    "#For reviews converted to lowercase\n",
    "token_lists =[word_tokenize(each) for each in amazon_reviews['reviews_text_new']]\n",
    "tokens = [item for sublist in token_lists for item in sublist]\n",
    "print(\"No. of unique tokens now :\", len(set(tokens)))"
   ]
  },
  {
   "cell_type": "markdown",
   "metadata": {},
   "source": [
    "removing special character"
   ]
  },
  {
   "cell_type": "code",
   "execution_count": 80,
   "metadata": {},
   "outputs": [
    {
     "data": {
      "text/plain": [
       "{'!',\n",
       " '\"',\n",
       " '#',\n",
       " '$',\n",
       " '%',\n",
       " '&',\n",
       " \"'\",\n",
       " '(',\n",
       " ')',\n",
       " '*',\n",
       " '+',\n",
       " ',',\n",
       " '-',\n",
       " '.',\n",
       " '/',\n",
       " ':',\n",
       " ';',\n",
       " '<',\n",
       " '=',\n",
       " '>',\n",
       " '?',\n",
       " '@',\n",
       " '[',\n",
       " ']',\n",
       " '^',\n",
       " '_',\n",
       " '`',\n",
       " '{',\n",
       " '}',\n",
       " '~',\n",
       " '§',\n",
       " '®'}"
      ]
     },
     "execution_count": 80,
     "metadata": {},
     "output_type": "execute_result"
    }
   ],
   "source": [
    "spl_chars = amazon_reviews['reviews_text_new'].apply(lambda review:\n",
    "                                                     [char for char in list(review) if not char.isalnum() and char != ' '])\n",
    "\n",
    "#put it into single list\n",
    "flat_list = [item for sublist in spl_chars for item in sublist]\n",
    "\n",
    "#unique characters\n",
    "set(flat_list)"
   ]
  },
  {
   "cell_type": "code",
   "execution_count": 81,
   "metadata": {},
   "outputs": [],
   "source": [
    "#remove Special Characters from reviews\n",
    "review_backup = amazon_reviews['reviews_text_new'].copy()\n",
    "amazon_reviews['reviews_text_new'] = amazon_reviews['reviews_text_new'].str.replace(r'[^A-Za-z0-9 ]+', ' ')"
   ]
  },
  {
   "cell_type": "code",
   "execution_count": 86,
   "metadata": {},
   "outputs": [
    {
     "name": "stdout",
     "output_type": "stream",
     "text": [
      "- Old Review -\n",
      "this saltwater taffy had great flavors and was very soft and chewy.  each candy was individually wrapped well.  none of the candies were stuck together, which did happen in the expensive version, fralinger's.  would highly recommend this candy!  i served it at a beach-themed party and everyone loved it!\n",
      "\n",
      "- New Review -\n",
      "this saltwater taffy had great flavors and was very soft and chewy   each candy was individually wrapped well   none of the candies were stuck together  which did happen in the expensive version  fralinger s   would highly recommend this candy   i served it at a beach themed party and everyone loved it \n"
     ]
    }
   ],
   "source": [
    "print(\"- Old Review -\")\n",
    "print(review_backup.values[6])\n",
    "print(\"\\n- New Review -\")\n",
    "print(amazon_reviews['reviews_text_new'][6])"
   ]
  },
  {
   "cell_type": "markdown",
   "metadata": {},
   "source": [
    "Number of Drooped character because of tokens"
   ]
  },
  {
   "cell_type": "code",
   "execution_count": 84,
   "metadata": {},
   "outputs": [
    {
     "name": "stdout",
     "output_type": "stream",
     "text": [
      "No. of unique tokens then : 27884\n"
     ]
    }
   ],
   "source": [
    "#For reviews converted to lowercase\n",
    "token_lists =[word_tokenize(each) for each in amazon_reviews['Text']]\n",
    "tokens = [item for sublist in token_lists for item in sublist]\n",
    "print(\"No. of unique tokens then :\", len(set(tokens)))"
   ]
  },
  {
   "cell_type": "code",
   "execution_count": 85,
   "metadata": {},
   "outputs": [
    {
     "name": "stdout",
     "output_type": "stream",
     "text": [
      "No. of unique tokens now : 18039\n"
     ]
    }
   ],
   "source": [
    "#For reviews converted to lowercase\n",
    "token_lists =[word_tokenize(each) for each in amazon_reviews['reviews_text_new']]\n",
    "tokens = [item for sublist in token_lists for item in sublist]\n",
    "print(\"No. of unique tokens now :\", len(set(tokens)))"
   ]
  },
  {
   "cell_type": "code",
   "execution_count": 88,
   "metadata": {},
   "outputs": [
    {
     "name": "stderr",
     "output_type": "stream",
     "text": [
      "[nltk_data] Downloading package stopwords to\n",
      "[nltk_data]     C:\\Users\\smart\\AppData\\Roaming\\nltk_data...\n",
      "[nltk_data]   Unzipping corpora\\stopwords.zip.\n"
     ]
    },
    {
     "data": {
      "text/plain": [
       "True"
      ]
     },
     "execution_count": 88,
     "metadata": {},
     "output_type": "execute_result"
    }
   ],
   "source": [
    "import nltk\n",
    "nltk.download('stopwords')"
   ]
  },
  {
   "cell_type": "markdown",
   "metadata": {},
   "source": [
    "removing stopwords and/highlow frequency words"
   ]
  },
  {
   "cell_type": "code",
   "execution_count": 90,
   "metadata": {},
   "outputs": [
    {
     "name": "stdout",
     "output_type": "stream",
     "text": [
      "Languages\n",
      "['arabic', 'azerbaijani', 'danish', 'dutch', 'english', 'finnish', 'french', 'german', 'greek', 'hungarian', 'indonesian', 'italian', 'kazakh', 'nepali', 'norwegian', 'portuguese', 'romanian', 'russian', 'slovene', 'spanish', 'swedish', 'tajik', 'turkish']\n"
     ]
    }
   ],
   "source": [
    "from nltk.corpus import stopwords\n",
    "print('Languages')\n",
    "print(stopwords.fileids())"
   ]
  },
  {
   "cell_type": "code",
   "execution_count": 93,
   "metadata": {},
   "outputs": [
    {
     "data": {
      "text/plain": [
       "['i',\n",
       " 'me',\n",
       " 'my',\n",
       " 'myself',\n",
       " 'we',\n",
       " 'our',\n",
       " 'ours',\n",
       " 'ourselves',\n",
       " 'you',\n",
       " \"you're\",\n",
       " \"you've\",\n",
       " \"you'll\",\n",
       " \"you'd\",\n",
       " 'your',\n",
       " 'yours',\n",
       " 'yourself',\n",
       " 'yourselves',\n",
       " 'he',\n",
       " 'him',\n",
       " 'his',\n",
       " 'himself',\n",
       " 'she',\n",
       " \"she's\",\n",
       " 'her',\n",
       " 'hers',\n",
       " 'herself',\n",
       " 'it',\n",
       " \"it's\",\n",
       " 'its',\n",
       " 'itself',\n",
       " 'they',\n",
       " 'them',\n",
       " 'their',\n",
       " 'theirs',\n",
       " 'themselves',\n",
       " 'what',\n",
       " 'which',\n",
       " 'who',\n",
       " 'whom',\n",
       " 'this',\n",
       " 'that',\n",
       " \"that'll\",\n",
       " 'these',\n",
       " 'those',\n",
       " 'am',\n",
       " 'is',\n",
       " 'are',\n",
       " 'was',\n",
       " 'were',\n",
       " 'be',\n",
       " 'been',\n",
       " 'being',\n",
       " 'have',\n",
       " 'has',\n",
       " 'had',\n",
       " 'having',\n",
       " 'do',\n",
       " 'does',\n",
       " 'did',\n",
       " 'doing',\n",
       " 'a',\n",
       " 'an',\n",
       " 'the',\n",
       " 'and',\n",
       " 'but',\n",
       " 'if',\n",
       " 'or',\n",
       " 'because',\n",
       " 'as',\n",
       " 'until',\n",
       " 'while',\n",
       " 'of',\n",
       " 'at',\n",
       " 'by',\n",
       " 'for',\n",
       " 'with',\n",
       " 'about',\n",
       " 'against',\n",
       " 'between',\n",
       " 'into',\n",
       " 'through',\n",
       " 'during',\n",
       " 'before',\n",
       " 'after',\n",
       " 'above',\n",
       " 'below',\n",
       " 'to',\n",
       " 'from',\n",
       " 'up',\n",
       " 'down',\n",
       " 'in',\n",
       " 'out',\n",
       " 'on',\n",
       " 'off',\n",
       " 'over',\n",
       " 'under',\n",
       " 'again',\n",
       " 'further',\n",
       " 'then',\n",
       " 'once',\n",
       " 'here',\n",
       " 'there',\n",
       " 'when',\n",
       " 'where',\n",
       " 'why',\n",
       " 'how',\n",
       " 'all',\n",
       " 'any',\n",
       " 'both',\n",
       " 'each',\n",
       " 'few',\n",
       " 'more',\n",
       " 'most',\n",
       " 'other',\n",
       " 'some',\n",
       " 'such',\n",
       " 'no',\n",
       " 'nor',\n",
       " 'not',\n",
       " 'only',\n",
       " 'own',\n",
       " 'same',\n",
       " 'so',\n",
       " 'than',\n",
       " 'too',\n",
       " 'very',\n",
       " 's',\n",
       " 't',\n",
       " 'can',\n",
       " 'will',\n",
       " 'just',\n",
       " 'don',\n",
       " \"don't\",\n",
       " 'should',\n",
       " \"should've\",\n",
       " 'now',\n",
       " 'd',\n",
       " 'll',\n",
       " 'm',\n",
       " 'o',\n",
       " 're',\n",
       " 've',\n",
       " 'y',\n",
       " 'ain',\n",
       " 'aren',\n",
       " \"aren't\",\n",
       " 'couldn',\n",
       " \"couldn't\",\n",
       " 'didn',\n",
       " \"didn't\",\n",
       " 'doesn',\n",
       " \"doesn't\",\n",
       " 'hadn',\n",
       " \"hadn't\",\n",
       " 'hasn',\n",
       " \"hasn't\",\n",
       " 'haven',\n",
       " \"haven't\",\n",
       " 'isn',\n",
       " \"isn't\",\n",
       " 'ma',\n",
       " 'mightn',\n",
       " \"mightn't\",\n",
       " 'mustn',\n",
       " \"mustn't\",\n",
       " 'needn',\n",
       " \"needn't\",\n",
       " 'shan',\n",
       " \"shan't\",\n",
       " 'shouldn',\n",
       " \"shouldn't\",\n",
       " 'wasn',\n",
       " \"wasn't\",\n",
       " 'weren',\n",
       " \"weren't\",\n",
       " 'won',\n",
       " \"won't\",\n",
       " 'wouldn',\n",
       " \"wouldn't\"]"
      ]
     },
     "execution_count": 93,
     "metadata": {},
     "output_type": "execute_result"
    }
   ],
   "source": [
    "noise_words = []\n",
    "eng_stop_words = stopwords.words('english')\n",
    "eng_stop_words"
   ]
  },
  {
   "cell_type": "code",
   "execution_count": 98,
   "metadata": {},
   "outputs": [
    {
     "name": "stdout",
     "output_type": "stream",
     "text": [
      "-- Original Sentence --\n",
      " i have bought several of the vitality canned dog food products and have found them all to be of good quality  the product looks more like a stew than a processed meat and it smells better  my labrador is finicky and she appreciates this product better than  most \n",
      "\n",
      "-- Stopwords in the sentence --\n",
      " ['i', 'have', 'of', 'the', 'and', 'have', 'them', 'all', 'to', 'be', 'of', 'the', 'more', 'a', 'than', 'a', 'and', 'it', 'my', 'is', 'and', 'she', 'this', 'than', 'most']\n",
      "\n",
      "-- Non-stopwords in the sentence --\n",
      " ['bought', 'several', 'vitality', 'canned', 'dog', 'food', 'products', 'found', 'good', 'quality', 'product', 'looks', 'like', 'stew', 'processed', 'meat', 'smells', 'better', 'labrador', 'finicky', 'appreciates', 'product', 'better']\n"
     ]
    }
   ],
   "source": [
    "#Removing those stopwords\n",
    "stop_words = set(eng_stop_words)\n",
    "stopword = []\n",
    "without_stop_words = []\n",
    "sentence = amazon_reviews['reviews_text_new'][0]\n",
    "words = nltk.word_tokenize(sentence)\n",
    "\n",
    "for word in words:\n",
    "    if word in stop_words:\n",
    "        stopword.append(word)\n",
    "    else:\n",
    "        without_stop_words.append(word)\n",
    "        \n",
    "print('-- Original Sentence --\\n', sentence)\n",
    "print('\\n-- Stopwords in the sentence --\\n', stopword)\n",
    "print('\\n-- Non-stopwords in the sentence --\\n', without_stop_words)"
   ]
  },
  {
   "cell_type": "code",
   "execution_count": 99,
   "metadata": {},
   "outputs": [
    {
     "data": {
      "text/html": [
       "<div>\n",
       "<style scoped>\n",
       "    .dataframe tbody tr th:only-of-type {\n",
       "        vertical-align: middle;\n",
       "    }\n",
       "\n",
       "    .dataframe tbody tr th {\n",
       "        vertical-align: top;\n",
       "    }\n",
       "\n",
       "    .dataframe thead th {\n",
       "        text-align: right;\n",
       "    }\n",
       "</style>\n",
       "<table border=\"1\" class=\"dataframe\">\n",
       "  <thead>\n",
       "    <tr style=\"text-align: right;\">\n",
       "      <th></th>\n",
       "      <th>reviews_text_new</th>\n",
       "      <th>reviews_text_nonstop</th>\n",
       "    </tr>\n",
       "  </thead>\n",
       "  <tbody>\n",
       "    <tr>\n",
       "      <th>0</th>\n",
       "      <td>i have bought several of the vitality canned d...</td>\n",
       "      <td>[bought, several, vitality, canned, dog, food,...</td>\n",
       "    </tr>\n",
       "    <tr>\n",
       "      <th>1</th>\n",
       "      <td>product arrived labeled as jumbo salted peanut...</td>\n",
       "      <td>[product, arrived, labeled, jumbo, salted, pea...</td>\n",
       "    </tr>\n",
       "    <tr>\n",
       "      <th>2</th>\n",
       "      <td>this is a confection that has been around a fe...</td>\n",
       "      <td>[confection, around, centuries, light, pillowy...</td>\n",
       "    </tr>\n",
       "    <tr>\n",
       "      <th>3</th>\n",
       "      <td>if you are looking for the secret ingredient i...</td>\n",
       "      <td>[looking, secret, ingredient, robitussin, beli...</td>\n",
       "    </tr>\n",
       "    <tr>\n",
       "      <th>4</th>\n",
       "      <td>great taffy at a great price   there was a wid...</td>\n",
       "      <td>[great, taffy, great, price, wide, assortment,...</td>\n",
       "    </tr>\n",
       "    <tr>\n",
       "      <th>...</th>\n",
       "      <td>...</td>\n",
       "      <td>...</td>\n",
       "    </tr>\n",
       "    <tr>\n",
       "      <th>9995</th>\n",
       "      <td>we switched from the advance similac to the or...</td>\n",
       "      <td>[switched, advance, similac, organic, product,...</td>\n",
       "    </tr>\n",
       "    <tr>\n",
       "      <th>9996</th>\n",
       "      <td>like the bad reviews say  the organic formula ...</td>\n",
       "      <td>[like, bad, reviews, say, organic, formula, co...</td>\n",
       "    </tr>\n",
       "    <tr>\n",
       "      <th>9997</th>\n",
       "      <td>i wanted to solely breastfeed but was unable t...</td>\n",
       "      <td>[wanted, solely, breastfeed, unable, keep, sup...</td>\n",
       "    </tr>\n",
       "    <tr>\n",
       "      <th>9998</th>\n",
       "      <td>i love the fact that i can get this delieved t...</td>\n",
       "      <td>[love, fact, get, delieved, house, delievy, ch...</td>\n",
       "    </tr>\n",
       "    <tr>\n",
       "      <th>9999</th>\n",
       "      <td>we have a 7 week old  he had gas and constipat...</td>\n",
       "      <td>[7, week, old, gas, constipation, problems, fi...</td>\n",
       "    </tr>\n",
       "  </tbody>\n",
       "</table>\n",
       "<p>9138 rows × 2 columns</p>\n",
       "</div>"
      ],
      "text/plain": [
       "                                       reviews_text_new  \\\n",
       "0     i have bought several of the vitality canned d...   \n",
       "1     product arrived labeled as jumbo salted peanut...   \n",
       "2     this is a confection that has been around a fe...   \n",
       "3     if you are looking for the secret ingredient i...   \n",
       "4     great taffy at a great price   there was a wid...   \n",
       "...                                                 ...   \n",
       "9995  we switched from the advance similac to the or...   \n",
       "9996  like the bad reviews say  the organic formula ...   \n",
       "9997  i wanted to solely breastfeed but was unable t...   \n",
       "9998  i love the fact that i can get this delieved t...   \n",
       "9999  we have a 7 week old  he had gas and constipat...   \n",
       "\n",
       "                                   reviews_text_nonstop  \n",
       "0     [bought, several, vitality, canned, dog, food,...  \n",
       "1     [product, arrived, labeled, jumbo, salted, pea...  \n",
       "2     [confection, around, centuries, light, pillowy...  \n",
       "3     [looking, secret, ingredient, robitussin, beli...  \n",
       "4     [great, taffy, great, price, wide, assortment,...  \n",
       "...                                                 ...  \n",
       "9995  [switched, advance, similac, organic, product,...  \n",
       "9996  [like, bad, reviews, say, organic, formula, co...  \n",
       "9997  [wanted, solely, breastfeed, unable, keep, sup...  \n",
       "9998  [love, fact, get, delieved, house, delievy, ch...  \n",
       "9999  [7, week, old, gas, constipation, problems, fi...  \n",
       "\n",
       "[9138 rows x 2 columns]"
      ]
     },
     "execution_count": 99,
     "metadata": {},
     "output_type": "execute_result"
    }
   ],
   "source": [
    "def stopwords_removal(stop_words, sentence):\n",
    "    return [word for word in nltk.word_tokenize(sentence) if word not in stop_words]\n",
    "\n",
    "amazon_reviews['reviews_text_nonstop'] = amazon_reviews['reviews_text_new'].apply(lambda row: stopwords_removal(stop_words, row))\n",
    "amazon_reviews[['reviews_text_new','reviews_text_nonstop']]"
   ]
  },
  {
   "cell_type": "markdown",
   "metadata": {},
   "source": [
    "Stteming/lemmatization (those words that mean same but look diffrent)"
   ]
  },
  {
   "cell_type": "code",
   "execution_count": 100,
   "metadata": {},
   "outputs": [
    {
     "name": "stderr",
     "output_type": "stream",
     "text": [
      "[nltk_data] Downloading package wordnet to\n",
      "[nltk_data]     C:\\Users\\smart\\AppData\\Roaming\\nltk_data...\n",
      "[nltk_data]   Unzipping corpora\\wordnet.zip.\n"
     ]
    }
   ],
   "source": [
    "from nltk.stem import PorterStemmer, LancasterStemmer # Common stemmers\n",
    "from nltk.stem import WordNetLemmatizer # Common Lematizer\n",
    "nltk.download('wordnet')\n",
    "from nltk.corpus import wordnet\n",
    "\n",
    "porter = PorterStemmer()\n",
    "lancaster = LancasterStemmer()\n",
    "lemmatizer = WordNetLemmatizer()"
   ]
  },
  {
   "cell_type": "code",
   "execution_count": 101,
   "metadata": {},
   "outputs": [
    {
     "name": "stdout",
     "output_type": "stream",
     "text": [
      "Lancaster Stemmer\n",
      "troubl\n",
      "troubl\n",
      "troubl\n",
      "WordNet Lemmatizer\n",
      "trouble\n",
      "trouble\n",
      "trouble\n"
     ]
    }
   ],
   "source": [
    "print(\"Lancaster Stemmer\")\n",
    "print(lancaster.stem(\"trouble\"))\n",
    "print(lancaster.stem(\"troubling\"))\n",
    "print(lancaster.stem(\"troubled\"))\n",
    "\n",
    "# Provide a word to be lemmatized\n",
    "print(\"WordNet Lemmatizer\")\n",
    "print(lemmatizer.lemmatize(\"trouble\", wordnet.NOUN))\n",
    "print(lemmatizer.lemmatize(\"troubling\", wordnet.VERB))\n",
    "print(lemmatizer.lemmatize(\"troubled\", wordnet.VERB))"
   ]
  },
  {
   "cell_type": "markdown",
   "metadata": {},
   "source": [
    "Building a Model"
   ]
  },
  {
   "cell_type": "code",
   "execution_count": 102,
   "metadata": {},
   "outputs": [
    {
     "data": {
      "text/html": [
       "<div>\n",
       "<style scoped>\n",
       "    .dataframe tbody tr th:only-of-type {\n",
       "        vertical-align: middle;\n",
       "    }\n",
       "\n",
       "    .dataframe tbody tr th {\n",
       "        vertical-align: top;\n",
       "    }\n",
       "\n",
       "    .dataframe thead th {\n",
       "        text-align: right;\n",
       "    }\n",
       "</style>\n",
       "<table border=\"1\" class=\"dataframe\">\n",
       "  <thead>\n",
       "    <tr style=\"text-align: right;\">\n",
       "      <th></th>\n",
       "      <th>Text</th>\n",
       "      <th>Score</th>\n",
       "      <th>Sentiment_rating</th>\n",
       "    </tr>\n",
       "  </thead>\n",
       "  <tbody>\n",
       "    <tr>\n",
       "      <th>0</th>\n",
       "      <td>I have bought several of the Vitality canned d...</td>\n",
       "      <td>5</td>\n",
       "      <td>1</td>\n",
       "    </tr>\n",
       "    <tr>\n",
       "      <th>1</th>\n",
       "      <td>Product arrived labeled as Jumbo Salted Peanut...</td>\n",
       "      <td>1</td>\n",
       "      <td>0</td>\n",
       "    </tr>\n",
       "    <tr>\n",
       "      <th>2</th>\n",
       "      <td>This is a confection that has been around a fe...</td>\n",
       "      <td>4</td>\n",
       "      <td>1</td>\n",
       "    </tr>\n",
       "    <tr>\n",
       "      <th>3</th>\n",
       "      <td>If you are looking for the secret ingredient i...</td>\n",
       "      <td>2</td>\n",
       "      <td>0</td>\n",
       "    </tr>\n",
       "    <tr>\n",
       "      <th>4</th>\n",
       "      <td>Great taffy at a great price.  There was a wid...</td>\n",
       "      <td>5</td>\n",
       "      <td>1</td>\n",
       "    </tr>\n",
       "  </tbody>\n",
       "</table>\n",
       "</div>"
      ],
      "text/plain": [
       "                                                Text  Score  Sentiment_rating\n",
       "0  I have bought several of the Vitality canned d...      5                 1\n",
       "1  Product arrived labeled as Jumbo Salted Peanut...      1                 0\n",
       "2  This is a confection that has been around a fe...      4                 1\n",
       "3  If you are looking for the secret ingredient i...      2                 0\n",
       "4  Great taffy at a great price.  There was a wid...      5                 1"
      ]
     },
     "execution_count": 102,
     "metadata": {},
     "output_type": "execute_result"
    }
   ],
   "source": [
    "amazon_reviews[['Text', 'Score', 'Sentiment_rating']].head(5)"
   ]
  },
  {
   "cell_type": "markdown",
   "metadata": {},
   "source": [
    "Since 1-grams are sometimes insufficient to understand the significance of certain words in our text, it is natural to consider blocks of words, or n-grams."
   ]
  },
  {
   "cell_type": "code",
   "execution_count": 104,
   "metadata": {},
   "outputs": [
    {
     "name": "stdout",
     "output_type": "stream",
     "text": [
      "1-grams:\n",
      " [('A',), ('bird',), ('in',), ('the',), ('hand',), ('worths',), ('two',), ('in',), ('the',), ('bush',)]\n",
      "2-grams:\n",
      " [('A', 'bird'), ('bird', 'in'), ('in', 'the'), ('the', 'hand'), ('hand', 'worths'), ('worths', 'two'), ('two', 'in'), ('in', 'the'), ('the', 'bush')]\n",
      "3-grams:\n",
      " [('A', 'bird', 'in'), ('bird', 'in', 'the'), ('in', 'the', 'hand'), ('the', 'hand', 'worths'), ('hand', 'worths', 'two'), ('worths', 'two', 'in'), ('two', 'in', 'the'), ('in', 'the', 'bush')]\n",
      "4-grams:\n",
      " [('A', 'bird', 'in', 'the'), ('bird', 'in', 'the', 'hand'), ('in', 'the', 'hand', 'worths'), ('the', 'hand', 'worths', 'two'), ('hand', 'worths', 'two', 'in'), ('worths', 'two', 'in', 'the'), ('two', 'in', 'the', 'bush')]\n"
     ]
    }
   ],
   "source": [
    "from nltk import ngrams\n",
    "\n",
    "sentence = 'A bird in the hand worths two in the bush'\n",
    "\n",
    "for n in range(1, 5):\n",
    "    print(str(n) + '-grams:\\n', list(ngrams(sentence.split(), n)))"
   ]
  },
  {
   "cell_type": "code",
   "execution_count": 128,
   "metadata": {},
   "outputs": [
    {
     "data": {
      "text/html": [
       "<div>\n",
       "<style scoped>\n",
       "    .dataframe tbody tr th:only-of-type {\n",
       "        vertical-align: middle;\n",
       "    }\n",
       "\n",
       "    .dataframe tbody tr th {\n",
       "        vertical-align: top;\n",
       "    }\n",
       "\n",
       "    .dataframe thead th {\n",
       "        text-align: right;\n",
       "    }\n",
       "</style>\n",
       "<table border=\"1\" class=\"dataframe\">\n",
       "  <thead>\n",
       "    <tr style=\"text-align: right;\">\n",
       "      <th></th>\n",
       "      <th>00</th>\n",
       "      <th>000</th>\n",
       "      <th>0003</th>\n",
       "      <th>000kwh</th>\n",
       "      <th>002</th>\n",
       "      <th>008</th>\n",
       "      <th>0100</th>\n",
       "      <th>0174</th>\n",
       "      <th>02</th>\n",
       "      <th>03</th>\n",
       "      <th>...</th>\n",
       "      <th>zomg</th>\n",
       "      <th>zon</th>\n",
       "      <th>zoo</th>\n",
       "      <th>zoom</th>\n",
       "      <th>zotz</th>\n",
       "      <th>zucchini</th>\n",
       "      <th>zuke</th>\n",
       "      <th>zukes</th>\n",
       "      <th>zupas</th>\n",
       "      <th>zuppa</th>\n",
       "    </tr>\n",
       "  </thead>\n",
       "  <tbody>\n",
       "    <tr>\n",
       "      <th>0</th>\n",
       "      <td>0</td>\n",
       "      <td>0</td>\n",
       "      <td>0</td>\n",
       "      <td>0</td>\n",
       "      <td>0</td>\n",
       "      <td>0</td>\n",
       "      <td>0</td>\n",
       "      <td>0</td>\n",
       "      <td>0</td>\n",
       "      <td>0</td>\n",
       "      <td>...</td>\n",
       "      <td>0</td>\n",
       "      <td>0</td>\n",
       "      <td>0</td>\n",
       "      <td>0</td>\n",
       "      <td>0</td>\n",
       "      <td>0</td>\n",
       "      <td>0</td>\n",
       "      <td>0</td>\n",
       "      <td>0</td>\n",
       "      <td>0</td>\n",
       "    </tr>\n",
       "    <tr>\n",
       "      <th>1</th>\n",
       "      <td>0</td>\n",
       "      <td>0</td>\n",
       "      <td>0</td>\n",
       "      <td>0</td>\n",
       "      <td>0</td>\n",
       "      <td>0</td>\n",
       "      <td>0</td>\n",
       "      <td>0</td>\n",
       "      <td>0</td>\n",
       "      <td>0</td>\n",
       "      <td>...</td>\n",
       "      <td>0</td>\n",
       "      <td>0</td>\n",
       "      <td>0</td>\n",
       "      <td>0</td>\n",
       "      <td>0</td>\n",
       "      <td>0</td>\n",
       "      <td>0</td>\n",
       "      <td>0</td>\n",
       "      <td>0</td>\n",
       "      <td>0</td>\n",
       "    </tr>\n",
       "    <tr>\n",
       "      <th>2</th>\n",
       "      <td>0</td>\n",
       "      <td>0</td>\n",
       "      <td>0</td>\n",
       "      <td>0</td>\n",
       "      <td>0</td>\n",
       "      <td>0</td>\n",
       "      <td>0</td>\n",
       "      <td>0</td>\n",
       "      <td>0</td>\n",
       "      <td>0</td>\n",
       "      <td>...</td>\n",
       "      <td>0</td>\n",
       "      <td>0</td>\n",
       "      <td>0</td>\n",
       "      <td>0</td>\n",
       "      <td>0</td>\n",
       "      <td>0</td>\n",
       "      <td>0</td>\n",
       "      <td>0</td>\n",
       "      <td>0</td>\n",
       "      <td>0</td>\n",
       "    </tr>\n",
       "    <tr>\n",
       "      <th>3</th>\n",
       "      <td>0</td>\n",
       "      <td>0</td>\n",
       "      <td>0</td>\n",
       "      <td>0</td>\n",
       "      <td>0</td>\n",
       "      <td>0</td>\n",
       "      <td>0</td>\n",
       "      <td>0</td>\n",
       "      <td>0</td>\n",
       "      <td>0</td>\n",
       "      <td>...</td>\n",
       "      <td>0</td>\n",
       "      <td>0</td>\n",
       "      <td>0</td>\n",
       "      <td>0</td>\n",
       "      <td>0</td>\n",
       "      <td>0</td>\n",
       "      <td>0</td>\n",
       "      <td>0</td>\n",
       "      <td>0</td>\n",
       "      <td>0</td>\n",
       "    </tr>\n",
       "    <tr>\n",
       "      <th>4</th>\n",
       "      <td>0</td>\n",
       "      <td>0</td>\n",
       "      <td>0</td>\n",
       "      <td>0</td>\n",
       "      <td>0</td>\n",
       "      <td>0</td>\n",
       "      <td>0</td>\n",
       "      <td>0</td>\n",
       "      <td>0</td>\n",
       "      <td>0</td>\n",
       "      <td>...</td>\n",
       "      <td>0</td>\n",
       "      <td>0</td>\n",
       "      <td>0</td>\n",
       "      <td>0</td>\n",
       "      <td>0</td>\n",
       "      <td>0</td>\n",
       "      <td>0</td>\n",
       "      <td>0</td>\n",
       "      <td>0</td>\n",
       "      <td>0</td>\n",
       "    </tr>\n",
       "  </tbody>\n",
       "</table>\n",
       "<p>5 rows × 18005 columns</p>\n",
       "</div>"
      ],
      "text/plain": [
       "   00  000  0003  000kwh  002  008  0100  0174  02  03  ...  zomg  zon  zoo  \\\n",
       "0   0    0     0       0    0    0     0     0   0   0  ...     0    0    0   \n",
       "1   0    0     0       0    0    0     0     0   0   0  ...     0    0    0   \n",
       "2   0    0     0       0    0    0     0     0   0   0  ...     0    0    0   \n",
       "3   0    0     0       0    0    0     0     0   0   0  ...     0    0    0   \n",
       "4   0    0     0       0    0    0     0     0   0   0  ...     0    0    0   \n",
       "\n",
       "   zoom  zotz  zucchini  zuke  zukes  zupas  zuppa  \n",
       "0     0     0         0     0      0      0      0  \n",
       "1     0     0         0     0      0      0      0  \n",
       "2     0     0         0     0      0      0      0  \n",
       "3     0     0         0     0      0      0      0  \n",
       "4     0     0         0     0      0      0      0  \n",
       "\n",
       "[5 rows x 18005 columns]"
      ]
     },
     "execution_count": 128,
     "metadata": {},
     "output_type": "execute_result"
    }
   ],
   "source": [
    "from sklearn.feature_extraction.text import CountVectorizer\n",
    "\n",
    "vec = CountVectorizer()\n",
    "X = vec.fit_transform(amazon_reviews['reviews_text_new'])\n",
    "df = pd.DataFrame(X.toarray(), columns = vec.get_feature_names())\n",
    "df.head()"
   ]
  },
  {
   "cell_type": "code",
   "execution_count": 129,
   "metadata": {},
   "outputs": [
    {
     "data": {
      "text/plain": [
       "<9138x18039 sparse matrix of type '<class 'numpy.int64'>'\n",
       "\twith 493450 stored elements in Compressed Sparse Row format>"
      ]
     },
     "execution_count": 129,
     "metadata": {},
     "output_type": "execute_result"
    }
   ],
   "source": [
    "bow_counts = CountVectorizer(tokenizer= word_tokenize, # type of tokenization\n",
    "                             stop_words=noise_words, # List of stopwords\n",
    "                             ngram_range=(1,1)) # number of n-grams\n",
    "\n",
    "bow_data = bow_counts.fit_transform(amazon_reviews['reviews_text_new'])\n",
    "bow_data"
   ]
  },
  {
   "cell_type": "code",
   "execution_count": 130,
   "metadata": {},
   "outputs": [],
   "source": [
    "#train Test split\n",
    "X_train_bow, X_test_bow, y_train_bow, y_test_bow = train_test_split(bow_data, amazon_reviews['Sentiment_rating'], train_size = 0.8, random_state = 0)"
   ]
  },
  {
   "cell_type": "code",
   "execution_count": 131,
   "metadata": {},
   "outputs": [],
   "source": [
    "#Train the model\n",
    "final_model = LogisticRegression()"
   ]
  },
  {
   "cell_type": "code",
   "execution_count": 132,
   "metadata": {},
   "outputs": [
    {
     "name": "stdout",
     "output_type": "stream",
     "text": [
      "f1 Score:  0.9526854219948849\n"
     ]
    }
   ],
   "source": [
    "final_model.fit(X_train_bow,y_train_bow)\n",
    "prediction = final_model.predict(X_test_bow)\n",
    "print(\"f1 Score: \", f1_score(y_test_bow, prediction))"
   ]
  },
  {
   "cell_type": "code",
   "execution_count": 133,
   "metadata": {},
   "outputs": [
    {
     "data": {
      "text/plain": [
       "<9138x672618 sparse matrix of type '<class 'numpy.int64'>'\n",
       "\twith 1849497 stored elements in Compressed Sparse Row format>"
      ]
     },
     "execution_count": 133,
     "metadata": {},
     "output_type": "execute_result"
    }
   ],
   "source": [
    "#including the n grams is increasing the feature space\n",
    "#Modify the model in bigram, trigram, and 4-gram\n",
    "bow_counts = CountVectorizer(tokenizer= word_tokenize,\n",
    "                             ngram_range=(1,3))\n",
    "\n",
    "bow_data = bow_counts.fit_transform(amazon_reviews.reviews_text_new)\n",
    "bow_data"
   ]
  },
  {
   "cell_type": "code",
   "execution_count": 134,
   "metadata": {},
   "outputs": [],
   "source": [
    "#train Test split\n",
    "X_train_bow, X_test_bow, y_train_bow, y_test_bow = train_test_split(bow_data, amazon_reviews['Sentiment_rating'], train_size = 0.8, random_state = 0)"
   ]
  },
  {
   "cell_type": "code",
   "execution_count": 135,
   "metadata": {},
   "outputs": [],
   "source": [
    "#Train the model\n",
    "final_model_new = LogisticRegression()"
   ]
  },
  {
   "cell_type": "code",
   "execution_count": 137,
   "metadata": {},
   "outputs": [
    {
     "name": "stdout",
     "output_type": "stream",
     "text": [
      "f1 Score:  0.9553459119496854\n"
     ]
    }
   ],
   "source": [
    "final_model_new.fit(X_train_bow,y_train_bow)\n",
    "prediction = final_model_new.predict(X_test_bow)\n",
    "print(\"f1 Score: \", f1_score(y_test_bow, prediction))"
   ]
  },
  {
   "cell_type": "code",
   "execution_count": 138,
   "metadata": {},
   "outputs": [],
   "source": [
    "weights = pd.DataFrame(list(zip(bow_counts.get_feature_names(), # ge tall the n-gram feature names\n",
    "                                   final_model_new.coef_[0])), # get the logistic regression coefficients\n",
    "                          columns= ['words','weights']) # defining the colunm names\n"
   ]
  },
  {
   "cell_type": "code",
   "execution_count": 139,
   "metadata": {},
   "outputs": [
    {
     "data": {
      "text/html": [
       "<div>\n",
       "<style scoped>\n",
       "    .dataframe tbody tr th:only-of-type {\n",
       "        vertical-align: middle;\n",
       "    }\n",
       "\n",
       "    .dataframe tbody tr th {\n",
       "        vertical-align: top;\n",
       "    }\n",
       "\n",
       "    .dataframe thead th {\n",
       "        text-align: right;\n",
       "    }\n",
       "</style>\n",
       "<table border=\"1\" class=\"dataframe\">\n",
       "  <thead>\n",
       "    <tr style=\"text-align: right;\">\n",
       "      <th></th>\n",
       "      <th>words</th>\n",
       "      <th>weights</th>\n",
       "    </tr>\n",
       "  </thead>\n",
       "  <tbody>\n",
       "    <tr>\n",
       "      <th>244732</th>\n",
       "      <td>great</td>\n",
       "      <td>1.373646</td>\n",
       "    </tr>\n",
       "    <tr>\n",
       "      <th>164944</th>\n",
       "      <td>delicious</td>\n",
       "      <td>1.061554</td>\n",
       "    </tr>\n",
       "    <tr>\n",
       "      <th>432409</th>\n",
       "      <td>perfect</td>\n",
       "      <td>0.945708</td>\n",
       "    </tr>\n",
       "    <tr>\n",
       "      <th>194917</th>\n",
       "      <td>excellent</td>\n",
       "      <td>0.941520</td>\n",
       "    </tr>\n",
       "    <tr>\n",
       "      <th>553334</th>\n",
       "      <td>the best</td>\n",
       "      <td>0.890421</td>\n",
       "    </tr>\n",
       "    <tr>\n",
       "      <th>239296</th>\n",
       "      <td>good</td>\n",
       "      <td>0.864118</td>\n",
       "    </tr>\n",
       "    <tr>\n",
       "      <th>378011</th>\n",
       "      <td>nice</td>\n",
       "      <td>0.860543</td>\n",
       "    </tr>\n",
       "    <tr>\n",
       "      <th>90030</th>\n",
       "      <td>best</td>\n",
       "      <td>0.836155</td>\n",
       "    </tr>\n",
       "    <tr>\n",
       "      <th>338481</th>\n",
       "      <td>love</td>\n",
       "      <td>0.786793</td>\n",
       "    </tr>\n",
       "    <tr>\n",
       "      <th>502770</th>\n",
       "      <td>smooth</td>\n",
       "      <td>0.746774</td>\n",
       "    </tr>\n",
       "    <tr>\n",
       "      <th>660413</th>\n",
       "      <td>wonderful</td>\n",
       "      <td>0.733317</td>\n",
       "    </tr>\n",
       "    <tr>\n",
       "      <th>340149</th>\n",
       "      <td>loves</td>\n",
       "      <td>0.721637</td>\n",
       "    </tr>\n",
       "    <tr>\n",
       "      <th>385468</th>\n",
       "      <td>not too</td>\n",
       "      <td>0.699270</td>\n",
       "    </tr>\n",
       "    <tr>\n",
       "      <th>201882</th>\n",
       "      <td>favorite</td>\n",
       "      <td>0.650342</td>\n",
       "    </tr>\n",
       "    <tr>\n",
       "      <th>40073</th>\n",
       "      <td>amazing</td>\n",
       "      <td>0.634125</td>\n",
       "    </tr>\n",
       "  </tbody>\n",
       "</table>\n",
       "</div>"
      ],
      "text/plain": [
       "            words   weights\n",
       "244732      great  1.373646\n",
       "164944  delicious  1.061554\n",
       "432409    perfect  0.945708\n",
       "194917  excellent  0.941520\n",
       "553334   the best  0.890421\n",
       "239296       good  0.864118\n",
       "378011       nice  0.860543\n",
       "90030        best  0.836155\n",
       "338481       love  0.786793\n",
       "502770     smooth  0.746774\n",
       "660413  wonderful  0.733317\n",
       "340149      loves  0.721637\n",
       "385468    not too  0.699270\n",
       "201882   favorite  0.650342\n",
       "40073     amazing  0.634125"
      ]
     },
     "execution_count": 139,
     "metadata": {},
     "output_type": "execute_result"
    }
   ],
   "source": [
    "weights.sort_values(['weights'], ascending = False)[:15] # top-15 more important features for positive reviews"
   ]
  },
  {
   "cell_type": "code",
   "execution_count": 142,
   "metadata": {},
   "outputs": [
    {
     "data": {
      "text/html": [
       "<div>\n",
       "<style scoped>\n",
       "    .dataframe tbody tr th:only-of-type {\n",
       "        vertical-align: middle;\n",
       "    }\n",
       "\n",
       "    .dataframe tbody tr th {\n",
       "        vertical-align: top;\n",
       "    }\n",
       "\n",
       "    .dataframe thead th {\n",
       "        text-align: right;\n",
       "    }\n",
       "</style>\n",
       "<table border=\"1\" class=\"dataframe\">\n",
       "  <thead>\n",
       "    <tr style=\"text-align: right;\">\n",
       "      <th></th>\n",
       "      <th>words</th>\n",
       "      <th>weights</th>\n",
       "    </tr>\n",
       "  </thead>\n",
       "  <tbody>\n",
       "    <tr>\n",
       "      <th>662638</th>\n",
       "      <td>worst</td>\n",
       "      <td>-0.628103</td>\n",
       "    </tr>\n",
       "    <tr>\n",
       "      <th>183856</th>\n",
       "      <td>eat it</td>\n",
       "      <td>-0.628413</td>\n",
       "    </tr>\n",
       "    <tr>\n",
       "      <th>74571</th>\n",
       "      <td>away</td>\n",
       "      <td>-0.630727</td>\n",
       "    </tr>\n",
       "    <tr>\n",
       "      <th>628150</th>\n",
       "      <td>very disappointed</td>\n",
       "      <td>-0.642788</td>\n",
       "    </tr>\n",
       "    <tr>\n",
       "      <th>532579</th>\n",
       "      <td>t</td>\n",
       "      <td>-0.656151</td>\n",
       "    </tr>\n",
       "    <tr>\n",
       "      <th>469916</th>\n",
       "      <td>return</td>\n",
       "      <td>-0.659873</td>\n",
       "    </tr>\n",
       "    <tr>\n",
       "      <th>637675</th>\n",
       "      <td>waste</td>\n",
       "      <td>-0.676164</td>\n",
       "    </tr>\n",
       "    <tr>\n",
       "      <th>519176</th>\n",
       "      <td>stick</td>\n",
       "      <td>-0.697768</td>\n",
       "    </tr>\n",
       "    <tr>\n",
       "      <th>75124</th>\n",
       "      <td>awful</td>\n",
       "      <td>-0.708930</td>\n",
       "    </tr>\n",
       "    <tr>\n",
       "      <th>77097</th>\n",
       "      <td>bad</td>\n",
       "      <td>-0.735374</td>\n",
       "    </tr>\n",
       "    <tr>\n",
       "      <th>171667</th>\n",
       "      <td>disappointing</td>\n",
       "      <td>-0.735870</td>\n",
       "    </tr>\n",
       "    <tr>\n",
       "      <th>641475</th>\n",
       "      <td>weak</td>\n",
       "      <td>-0.835526</td>\n",
       "    </tr>\n",
       "    <tr>\n",
       "      <th>191542</th>\n",
       "      <td>even</td>\n",
       "      <td>-0.836072</td>\n",
       "    </tr>\n",
       "    <tr>\n",
       "      <th>381943</th>\n",
       "      <td>not</td>\n",
       "      <td>-0.979563</td>\n",
       "    </tr>\n",
       "    <tr>\n",
       "      <th>171493</th>\n",
       "      <td>disappointed</td>\n",
       "      <td>-1.281750</td>\n",
       "    </tr>\n",
       "  </tbody>\n",
       "</table>\n",
       "</div>"
      ],
      "text/plain": [
       "                    words   weights\n",
       "662638              worst -0.628103\n",
       "183856             eat it -0.628413\n",
       "74571                away -0.630727\n",
       "628150  very disappointed -0.642788\n",
       "532579                  t -0.656151\n",
       "469916             return -0.659873\n",
       "637675              waste -0.676164\n",
       "519176              stick -0.697768\n",
       "75124               awful -0.708930\n",
       "77097                 bad -0.735374\n",
       "171667      disappointing -0.735870\n",
       "641475               weak -0.835526\n",
       "191542               even -0.836072\n",
       "381943                not -0.979563\n",
       "171493       disappointed -1.281750"
      ]
     },
     "execution_count": 142,
     "metadata": {},
     "output_type": "execute_result"
    }
   ],
   "source": [
    "weights.sort_values(['weights'], ascending = False)[-15:] # top-15 more important features for positive reviews"
   ]
  },
  {
   "cell_type": "markdown",
   "metadata": {},
   "source": [
    "we cleaned up and featurized an Amazon reviews dataset and built some classification models on these featurizations to predict sentiment. We saw that bag-of-words. Through increase the set of n-grams we used from 1-grams to up to 4-grams, we were able to get our logistic regression model accuracy up to 95%.\n",
    "NoteBook Created By Manav Gandhi"
   ]
  }
 ],
 "metadata": {
  "kernelspec": {
   "display_name": "Python 3",
   "language": "python",
   "name": "python3"
  },
  "language_info": {
   "codemirror_mode": {
    "name": "ipython",
    "version": 3
   },
   "file_extension": ".py",
   "mimetype": "text/x-python",
   "name": "python",
   "nbconvert_exporter": "python",
   "pygments_lexer": "ipython3",
   "version": "3.7.6"
  }
 },
 "nbformat": 4,
 "nbformat_minor": 4
}
